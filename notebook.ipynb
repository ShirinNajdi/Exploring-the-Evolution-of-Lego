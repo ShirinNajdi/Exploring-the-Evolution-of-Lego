{
 "cells": [
  {
   "cell_type": "markdown",
   "metadata": {
    "dc": {
     "key": "3"
    },
    "deletable": false,
    "editable": false,
    "run_control": {
     "frozen": true
    },
    "tags": [
     "context"
    ]
   },
   "source": [
    "## # Introduction\n",
    "<p><img src=\"https://assets.datacamp.com/production/project_981/img/lego_unsplash.jpg\" alt=\"A picture of Lego characters!\"></p>\n",
    "<h3 id=\"letslookatlegosets\">Let's look at Lego sets!</h3>\n",
    "<p>Lego is a household name across the world, supported by a diverse toy line, hit movies, and a series of successful video games. In this project, we are going to explore a key development in the history of Lego: the introduction of licensed sets such as Star Wars, Super Heroes, and Harry Potter.</p>\n",
    "<p>It may not be widely known, but Lego has had its share of ups and downs since its inception in the early 20th century. This includes a particularly rough period in the late 90s. As described in <a href=\"https://www.businessinsider.com/how-lego-made-a-huge-turnaround-2014-2?r=US&IR=T\">this article</a>, Lego was only able to survive due to a successful internal brand (Bionicle) and the introduction of its first licensed series: Star Wars. In the instructions panel are the two questions you will need to answer to complete this project.</p>\n",
    "<p>Before diving into our analysis though, let's become familiar with the two datasets that will help you with this project:<br><br></p>\n",
    "<div style=\"background-color: #ebf4f7; color: #595959; text-align:left; vertical-align: middle; padding: 15px 25px 15px 25px; line-height: 1.6;\">\n",
    "    <div style=\"font-size:20px\"><b>datasets/lego_sets.csv</b></div>\n",
    "<ul>\n",
    "    <li><b>set_num:</b> A code that is unique to each set in the dataset. <b><i>This column is critical, and a missing value indicates the set is a duplicate or invalid!</i></b></li>\n",
    "    <li><b>set_name:</b> A name for every set in the dataset (note that this can be the same for different sets).</li>\n",
    "    <li><b>year:</b> The date the set was released.</li>\n",
    "    <li><b>num_parts:</b> The number of parts contained in the set.<b><i> This column is not central to our analyses, so missing values are acceptable.</i></b></li>\n",
    "        <li><b>theme_name:</b> The name of the sub-theme of the set.</li>\n",
    "    <li><b>parent_theme:</b> The name of the parent theme the set belongs to. Matches the `name` column of the `parent_themes` csv file.</li>\n",
    "</ul>\n",
    "\n",
    "<div style=\"font-size:20px\"><b>datasets/parent_themes.csv</b></div>\n",
    "<ul>\n",
    "    <li><b>id:</b> A code that is unique to every theme.</li>\n",
    "    <li><b>name:</b> The name of the parent theme.</li>\n",
    "    <li><b>is_licensed:</b> A Boolean column specifying whether the theme is a licensed theme.</li>\n",
    "</ul>\n",
    "    </div>\n",
    "<p>From here on out, it will be your task to explore and manipulate the existing data until you are able to answer the two questions described in the instructions panel. Feel free to add as many cells as necessary. Finally, remember that you are only tested on your answer, not on the methods you use to arrive at the answer!</p>\n",
    "<p><em><strong>Note:</strong> If you haven't completed a DataCamp project before you should check out the <a href=\"https://projects.datacamp.com/projects/33\">Intro to Projects</a> first to learn about the interface. In this project, you also need to know your way around <code>pandas</code> DataFrames and it's recommended that you take a look at the course <a href=\"https://www.datacamp.com/courses/data-manipulation-with-pandas\">Data Manipulation with pandas</a>.</em></p>"
   ]
  },
  {
   "cell_type": "code",
   "execution_count": 1,
   "metadata": {
    "dc": {
     "key": "3"
    },
    "tags": [
     "sample_code"
    ]
   },
   "outputs": [
    {
     "name": "stdout",
     "output_type": "stream",
     "text": [
      "<class 'pandas.core.frame.DataFrame'>\n",
      "RangeIndex: 11986 entries, 0 to 11985\n",
      "Data columns (total 6 columns):\n",
      " #   Column        Non-Null Count  Dtype  \n",
      "---  ------        --------------  -----  \n",
      " 0   set_num       11833 non-null  object \n",
      " 1   name          11833 non-null  object \n",
      " 2   year          11986 non-null  int64  \n",
      " 3   num_parts     6926 non-null   float64\n",
      " 4   theme_name    11833 non-null  object \n",
      " 5   parent_theme  11986 non-null  object \n",
      "dtypes: float64(1), int64(1), object(4)\n",
      "memory usage: 562.0+ KB\n",
      "None\n",
      "<class 'pandas.core.frame.DataFrame'>\n",
      "RangeIndex: 111 entries, 0 to 110\n",
      "Data columns (total 3 columns):\n",
      " #   Column       Non-Null Count  Dtype \n",
      "---  ------       --------------  ----- \n",
      " 0   id           111 non-null    int64 \n",
      " 1   name         111 non-null    object\n",
      " 2   is_licensed  111 non-null    bool  \n",
      "dtypes: bool(1), int64(1), object(1)\n",
      "memory usage: 2.0+ KB\n",
      "None\n"
     ]
    }
   ],
   "source": [
    "# Use this cell to begin your analyses, and add as many cells as you would like!\n",
    "import pandas as pd\n",
    "\n",
    "lego_sets_df = pd.read_csv('datasets/lego_sets.csv')\n",
    "parent_df = pd.read_csv('datasets/parent_themes.csv')\n",
    "\n",
    "print(lego_sets_df.info())\n",
    "print(parent_df.info())"
   ]
  },
  {
   "cell_type": "code",
   "execution_count": 2,
   "metadata": {
    "dc": {
     "key": "3"
    }
   },
   "outputs": [
    {
     "name": "stdout",
     "output_type": "stream",
     "text": [
      "<class 'pandas.core.frame.DataFrame'>\n",
      "Int64Index: 11833 entries, 0 to 11832\n",
      "Data columns (total 6 columns):\n",
      " #   Column        Non-Null Count  Dtype  \n",
      "---  ------        --------------  -----  \n",
      " 0   set_num       11833 non-null  object \n",
      " 1   name          11833 non-null  object \n",
      " 2   year          11833 non-null  int64  \n",
      " 3   num_parts     6835 non-null   float64\n",
      " 4   theme_name    11833 non-null  object \n",
      " 5   parent_theme  11833 non-null  object \n",
      "dtypes: float64(1), int64(1), object(4)\n",
      "memory usage: 647.1+ KB\n",
      "None\n",
      "  set_num                        name  year  num_parts    theme_name  \\\n",
      "0    00-1             Weetabix Castle  1970      471.0        Castle   \n",
      "1  0011-2           Town Mini-Figures  1978        NaN  Supplemental   \n",
      "2  0011-3  Castle 2 for 1 Bonus Offer  1987        NaN  Lion Knights   \n",
      "3  0012-1          Space Mini-Figures  1979       12.0  Supplemental   \n",
      "4  0013-1          Space Mini-Figures  1979       12.0  Supplemental   \n",
      "\n",
      "  parent_theme  \n",
      "0     Legoland  \n",
      "1         Town  \n",
      "2       Castle  \n",
      "3        Space  \n",
      "4        Space  \n"
     ]
    }
   ],
   "source": [
    "# Drop the missing lines in set_num column\n",
    "mask = lego_sets_df['set_num'].notnull()\n",
    "lego_sets_df = lego_sets_df[mask]\n",
    "print(lego_sets_df.info())\n",
    "print(lego_sets_df.head())"
   ]
  },
  {
   "cell_type": "code",
   "execution_count": 3,
   "metadata": {
    "dc": {
     "key": "3"
    }
   },
   "outputs": [
    {
     "name": "stdout",
     "output_type": "stream",
     "text": [
      "<class 'pandas.core.frame.DataFrame'>\n",
      "Int64Index: 11833 entries, 0 to 11832\n",
      "Data columns (total 9 columns):\n",
      " #   Column        Non-Null Count  Dtype  \n",
      "---  ------        --------------  -----  \n",
      " 0   set_num       11833 non-null  object \n",
      " 1   name_x        11833 non-null  object \n",
      " 2   year          11833 non-null  int64  \n",
      " 3   num_parts     6835 non-null   float64\n",
      " 4   theme_name    11833 non-null  object \n",
      " 5   parent_theme  11833 non-null  object \n",
      " 6   id            11833 non-null  int64  \n",
      " 7   name_y        11833 non-null  object \n",
      " 8   is_licensed   11833 non-null  bool   \n",
      "dtypes: bool(1), float64(1), int64(2), object(5)\n",
      "memory usage: 843.6+ KB\n",
      "None\n"
     ]
    }
   ],
   "source": [
    "# join two dataframes\n",
    "lego_df = lego_sets_df.merge(parent_df, left_on='parent_theme', right_on='name')\n",
    "print(lego_df.info())"
   ]
  },
  {
   "cell_type": "code",
   "execution_count": 4,
   "metadata": {
    "dc": {
     "key": "3"
    }
   },
   "outputs": [
    {
     "name": "stdout",
     "output_type": "stream",
     "text": [
      "What percentage of all licensed sets ever released were Star Wars themed? The answer is 51 percent\n"
     ]
    }
   ],
   "source": [
    "all_licenced_no = lego_df['is_licensed'].sum()\n",
    "mask_starwars = (lego_df['is_licensed']==True) & (lego_df['parent_theme'] =='Star Wars')\n",
    "starwars_licenced_no = lego_df[mask_starwars]\n",
    "\n",
    "the_force = int(starwars_licenced_no.shape[0] *100/all_licenced_no)\n",
    "\n",
    "print('What percentage of all licensed sets ever released were Star Wars themed? The answer is {} percent'.format(the_force))"
   ]
  },
  {
   "cell_type": "code",
   "execution_count": 5,
   "metadata": {
    "dc": {
     "key": "3"
    }
   },
   "outputs": [
    {
     "name": "stdout",
     "output_type": "stream",
     "text": [
      "In which year was Star Wars NOT the most popular licensed theme? The answer is 2017\n"
     ]
    }
   ],
   "source": [
    "lego_df_licensed = lego_df[lego_df['is_licensed']==True]\n",
    "sets_count = lego_df_licensed.groupby('year')['parent_theme'].agg(pd.Series.mode)\n",
    "new_era = sets_count[sets_count != 'Star Wars'].index[0]\n",
    "print('In which year was Star Wars NOT the most popular licensed theme? The answer is {}'.format(new_era))\n"
   ]
  }
 ],
 "metadata": {
  "kernelspec": {
   "display_name": "Python 3",
   "language": "python",
   "name": "python3"
  },
  "language_info": {
   "codemirror_mode": {
    "name": "ipython",
    "version": 3
   },
   "file_extension": ".py",
   "mimetype": "text/x-python",
   "name": "python",
   "nbconvert_exporter": "python",
   "pygments_lexer": "ipython3",
   "version": "3.8.3"
  }
 },
 "nbformat": 4,
 "nbformat_minor": 2
}
